{
 "cells": [
  {
   "cell_type": "code",
   "execution_count": 1,
   "id": "f5e4eea5-67bf-4022-a463-abe981c119d0",
   "metadata": {
    "microsoft": {
     "language": "python",
     "language_group": "synapse_pyspark"
    }
   },
   "outputs": [
    {
     "data": {
      "application/vnd.livy.statement-meta+json": {
       "execution_finish_time": "2025-01-30T05:42:46.7837192Z",
       "execution_start_time": "2025-01-30T05:42:31.7719213Z",
       "livy_statement_state": "available",
       "normalized_state": "finished",
       "parent_msg_id": "b8503cb9-7e42-4801-8e5a-0c9aa2d9377f",
       "queued_time": "2025-01-30T05:39:30.2872866Z",
       "session_id": "188e7d07-4c34-4f9f-a3b0-4fe4190de569",
       "session_start_time": "2025-01-30T05:39:30.2887451Z",
       "spark_pool": null,
       "state": "finished",
       "statement_id": 3,
       "statement_ids": [
        3
       ]
      },
      "text/plain": [
       "StatementMeta(, 188e7d07-4c34-4f9f-a3b0-4fe4190de569, 3, Finished, Available, Finished)"
      ]
     },
     "metadata": {},
     "output_type": "display_data"
    }
   ],
   "source": [
    "import sempy.fabric as fabric\n",
    "import base64\n",
    "import json\n",
    "import time\n"
   ]
  },
  {
   "cell_type": "markdown",
   "id": "bb8660fb-aafd-4849-8b3b-116aa961db1a",
   "metadata": {
    "microsoft": {
     "language": "python",
     "language_group": "synapse_pyspark"
    },
    "nteract": {
     "transient": {
      "deleting": false
     }
    }
   },
   "source": [
    "## Functions to get the Report definition and the report.json payload"
   ]
  },
  {
   "cell_type": "code",
   "execution_count": 2,
   "id": "de9de074-df7d-4275-8e3a-bd6efddaf059",
   "metadata": {
    "microsoft": {
     "language": "python",
     "language_group": "synapse_pyspark"
    }
   },
   "outputs": [
    {
     "data": {
      "application/vnd.livy.statement-meta+json": {
       "execution_finish_time": "2025-01-30T05:42:57.7274365Z",
       "execution_start_time": "2025-01-30T05:42:57.4275859Z",
       "livy_statement_state": "available",
       "normalized_state": "finished",
       "parent_msg_id": "abfca673-b224-4e6f-8855-892a4aa2f4b1",
       "queued_time": "2025-01-30T05:42:57.2592557Z",
       "session_id": "188e7d07-4c34-4f9f-a3b0-4fe4190de569",
       "session_start_time": null,
       "spark_pool": null,
       "state": "finished",
       "statement_id": 4,
       "statement_ids": [
        4
       ]
      },
      "text/plain": [
       "StatementMeta(, 188e7d07-4c34-4f9f-a3b0-4fe4190de569, 4, Finished, Available, Finished)"
      ]
     },
     "metadata": {},
     "output_type": "display_data"
    }
   ],
   "source": [
    "def get_report_definition(workspaceId:str, itemId:str ):\n",
    "    #Instantiate the client\n",
    "    client = fabric.FabricRestClient()\n",
    "    #request the report definition\n",
    "    resp = client.post(f\"v1/workspaces/{workspaceId}/items/{itemId}/getDefinition\")\n",
    "\n",
    "    ## TODO - need to be able to handle throttling for production use\n",
    "\n",
    "    if resp.status_code == 200 :\n",
    "        payload = json.loads(resp.content.decode('utf-8'))\n",
    "    if resp.status_code == 202 :\n",
    "        operation_resp = client.get(resp.headers[\"Location\"])\n",
    "        pcnt = json.loads(operation_resp.content.decode('utf-8'))[\"percentComplete\"]\n",
    "        percentComplete = 0 if pcnt is None else int(pcnt)\n",
    "\n",
    "        while percentComplete < 100:\n",
    "            time.sleep(1)\n",
    "            operation_resp = client.get(resp.headers[\"Location\"])\n",
    "            pcnt = json.loads(operation_resp.content.decode('utf-8'))[\"percentComplete\"]\n",
    "            percentComplete = 0 if pcnt is None else int(pcnt)\n",
    "        final_resp = client.get(operation_resp.headers[\"Location\"])\n",
    "        payload = json.loads(final_resp.content.decode('utf-8'))\n",
    "\n",
    "    return payload"
   ]
  },
  {
   "cell_type": "code",
   "execution_count": 3,
   "id": "4aa2044e-ce1f-49cc-a9a8-d24caad77d21",
   "metadata": {
    "microsoft": {
     "language": "python",
     "language_group": "synapse_pyspark"
    }
   },
   "outputs": [
    {
     "data": {
      "application/vnd.livy.statement-meta+json": {
       "execution_finish_time": "2025-01-30T05:43:13.9244913Z",
       "execution_start_time": "2025-01-30T05:43:13.6469437Z",
       "livy_statement_state": "available",
       "normalized_state": "finished",
       "parent_msg_id": "76e0bd63-946c-474c-9386-34cd82e61469",
       "queued_time": "2025-01-30T05:43:13.4668664Z",
       "session_id": "188e7d07-4c34-4f9f-a3b0-4fe4190de569",
       "session_start_time": null,
       "spark_pool": null,
       "state": "finished",
       "statement_id": 5,
       "statement_ids": [
        5
       ]
      },
      "text/plain": [
       "StatementMeta(, 188e7d07-4c34-4f9f-a3b0-4fe4190de569, 5, Finished, Available, Finished)"
      ]
     },
     "metadata": {},
     "output_type": "display_data"
    }
   ],
   "source": [
    "def get_report_json(payload):\n",
    "    report_idx = -1\n",
    "    idx = 0\n",
    "    for part in payload[\"definition\"][\"parts\"]:\n",
    "        if part[\"path\"] == \"report.json\":\n",
    "            report_idx = idx\n",
    "            break\n",
    "        idx +=1\n",
    "\n",
    "    decoded_string = base64.b64decode(payload[\"definition\"][\"parts\"][report_idx][\"payload\"]).decode('utf-8')\n",
    "    return (report_idx, decoded_string)"
   ]
  },
  {
   "cell_type": "markdown",
   "id": "7afb2602-5984-4bfb-a606-9c53152bba36",
   "metadata": {
    "microsoft": {
     "language": "python",
     "language_group": "synapse_pyspark"
    },
    "nteract": {
     "transient": {
      "deleting": false
     }
    }
   },
   "source": [
    "## Get all the reports in the current workspace"
   ]
  },
  {
   "cell_type": "code",
   "execution_count": 4,
   "id": "4b9c5cb8-eb49-451d-928c-adaf5be68a6f",
   "metadata": {
    "microsoft": {
     "language": "python",
     "language_group": "synapse_pyspark"
    }
   },
   "outputs": [
    {
     "data": {
      "application/vnd.livy.statement-meta+json": {
       "execution_finish_time": "2025-01-30T05:43:19.5805183Z",
       "execution_start_time": "2025-01-30T05:43:17.1293586Z",
       "livy_statement_state": "available",
       "normalized_state": "finished",
       "parent_msg_id": "f5314a5b-0c27-48f4-918a-383e8dc8f4b0",
       "queued_time": "2025-01-30T05:43:16.9369634Z",
       "session_id": "188e7d07-4c34-4f9f-a3b0-4fe4190de569",
       "session_start_time": null,
       "spark_pool": null,
       "state": "finished",
       "statement_id": 6,
       "statement_ids": [
        6
       ]
      },
      "text/plain": [
       "StatementMeta(, 188e7d07-4c34-4f9f-a3b0-4fe4190de569, 6, Finished, Available, Finished)"
      ]
     },
     "metadata": {},
     "output_type": "display_data"
    }
   ],
   "source": [
    "wsId = fabric.get_notebook_workspace_id()\n",
    "reports = fabric.list_items('Report', wsId)"
   ]
  },
  {
   "cell_type": "markdown",
   "id": "60090777-8ca4-4835-aa68-9c9e444fdc99",
   "metadata": {
    "microsoft": {
     "language": "python",
     "language_group": "synapse_pyspark"
    },
    "nteract": {
     "transient": {
      "deleting": false
     }
    }
   },
   "source": [
    "## Printing the value of the exportDataMode setting for all reports in a Workspace"
   ]
  },
  {
   "cell_type": "code",
   "execution_count": 5,
   "id": "8f83cb45-44b4-4052-aed5-6403554ceece",
   "metadata": {
    "microsoft": {
     "language": "python",
     "language_group": "synapse_pyspark"
    }
   },
   "outputs": [
    {
     "data": {
      "application/vnd.livy.statement-meta+json": {
       "execution_finish_time": "2025-01-30T05:43:35.514305Z",
       "execution_start_time": "2025-01-30T05:43:22.7799495Z",
       "livy_statement_state": "available",
       "normalized_state": "finished",
       "parent_msg_id": "04043271-e7eb-448a-8321-bef981294443",
       "queued_time": "2025-01-30T05:43:22.6039679Z",
       "session_id": "188e7d07-4c34-4f9f-a3b0-4fe4190de569",
       "session_start_time": null,
       "spark_pool": null,
       "state": "finished",
       "statement_id": 7,
       "statement_ids": [
        7
       ]
      },
      "text/plain": [
       "StatementMeta(, 188e7d07-4c34-4f9f-a3b0-4fe4190de569, 7, Finished, Available, Finished)"
      ]
     },
     "metadata": {},
     "output_type": "display_data"
    },
    {
     "name": "stdout",
     "output_type": "stream",
     "text": [
      "Report: AzSQL AdvWrksLt (549ecda6-0494-42ed-b5c0-cb3e95adb6e3) ExportMode: 1\n",
      "Report: FabricMonitor-DQ (9eeceff7-571e-4ddd-81b4-a55b74356c8f) ExportMode: 1\n",
      "Report: FabricMonitor-Import (fa5832d0-042a-444d-a889-055dfd0dbc2f) ExportMode: 1\n",
      "Report: Adv Wrks Test (addd1b63-46e3-4a69-a641-8cd88071b496) ExportMode: 2\n",
      "Report: FabricMonitorCustom Workspaces (880d095f-ac08-4bc1-8e2c-4ae573168105) ExportMode: 1\n",
      "Report: FabricMonitorCustom2 Workspaces (c1b87198-ae20-4127-bd0f-228cb7779668) ExportMode: 1\n",
      "Report: Adv Works DQ to SSAS (077cecd3-c8ca-4a71-a002-547ff484988a) ExportMode: 1\n",
      "Report: AdvWrksLt Hybrid (bedb7a94-9eef-4ff4-9808-9b34aaf5ef8b) ExportMode: None\n"
     ]
    }
   ],
   "source": [
    "for index, report in reports.iterrows():\n",
    "    payload = get_report_definition(wsId,report['Id'] )\n",
    "    reportIdx, reportJson = get_report_json(payload)\n",
    "    pbir = json.loads(reportJson)\n",
    "    exportDataMode = json.loads(pbir['config'])['settings'].get('exportDataMode',None)\n",
    "    print(f\"Report: {report['Display Name']} ({report['Id']}) ExportMode: {exportDataMode}\") \n"
   ]
  },
  {
   "cell_type": "markdown",
   "id": "c9b7924f-33ee-4e39-aa5a-68521560eb5f",
   "metadata": {
    "microsoft": {
     "language": "python",
     "language_group": "synapse_pyspark"
    },
    "nteract": {
     "transient": {
      "deleting": false
     }
    }
   },
   "source": [
    "## Updating all reports to set Export: None"
   ]
  },
  {
   "cell_type": "code",
   "execution_count": null,
   "id": "5c5cef61-9684-4634-bc5e-c463a04ad39c",
   "metadata": {
    "microsoft": {
     "language": "python",
     "language_group": "synapse_pyspark"
    }
   },
   "outputs": [],
   "source": [
    "client = fabric.FabricRestClient()\n",
    "for index, report in reports.iterrows():\n",
    "    # get the current definition\n",
    "    payload = get_report_definition(wsId,report['Id'] )\n",
    "    # find the report.json content\n",
    "    report_idx, reportJson = get_report_json(payload)\n",
    "    # update settings of 1 or 2 with 0\n",
    "    # I'm using string replacement here as the settings are stored as a string inside the settings property\n",
    "    # and I don't want to change the encoding\n",
    "    new_str = reportJson.replace(\"\\\\\\\"exportDataMode\\\\\\\":1\",\"\\\\\\\"exportDataMode\\\\\\\":0\")\n",
    "    new_str = new_str.replace(\"\\\\\\\"exportDataMode\\\\\\\":2\",\"\\\\\\\"exportDataMode\\\\\\\":0\")\n",
    "    # Encode the string to bytes, then encode to Base64\n",
    "    encoded_bytes = base64.b64encode(new_str.encode('utf-8'))\n",
    "    encoded_str = encoded_bytes.decode('utf-8')\n",
    "    payload[\"definition\"][\"parts\"][report_idx][\"payload\"] = encoded_str\n",
    "\n",
    "    # Post the update request\n",
    "    ## TODO - need to be able to handle throttling for production use\n",
    "    upd_resp = client.post(f\"v1/workspaces/{wsId}/items/{report['Id']}/updateDefinition\", json= payload)\n",
    "\n",
    "    print(f\"Report: {report['Display Name']} ({report['Id']}) Update Response: {upd_resp.status_code}\") "
   ]
  }
 ],
 "metadata": {
  "dependencies": {
   "lakehouse": {
    "default_lakehouse": "9ec223dd-e8cf-4a32-9557-bcc2ec05c660",
    "default_lakehouse_name": "FabricMonitor",
    "default_lakehouse_workspace_id": "8ef345ba-ea49-4980-a4e7-99bd2f9f392d",
    "known_lakehouses": [
     {
      "id": "9ec223dd-e8cf-4a32-9557-bcc2ec05c660"
     }
    ]
   }
  },
  "kernel_info": {
   "name": "synapse_pyspark"
  },
  "kernelspec": {
   "display_name": "Synapse PySpark",
   "language": "Python",
   "name": "synapse_pyspark"
  },
  "language_info": {
   "name": "python"
  },
  "microsoft": {
   "language": "python",
   "language_group": "synapse_pyspark",
   "ms_spell_check": {
    "ms_spell_check_language": "en"
   }
  },
  "notebook_environment": {},
  "nteract": {
   "version": "nteract-front-end@1.0.0"
  },
  "save_output": true,
  "spark_compute": {
   "compute_id": "/trident/default",
   "session_options": {
    "conf": {
     "spark.synapse.nbs.session.timeout": "1200000"
    },
    "enableDebugMode": false
   }
  },
  "synapse_widget": {
   "state": {},
   "version": "0.1"
  },
  "widgets": {}
 },
 "nbformat": 4,
 "nbformat_minor": 5
}
